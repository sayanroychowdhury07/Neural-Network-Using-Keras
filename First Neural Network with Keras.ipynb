{
 "cells": [
  {
   "cell_type": "code",
   "execution_count": 1,
   "metadata": {},
   "outputs": [],
   "source": [
    "import pandas as pd"
   ]
  },
  {
   "cell_type": "markdown",
   "metadata": {},
   "source": [
    "The command read_csv reads a file but does not converts into a workable data set.\n",
    "This data frame is known as the pandas data frame"
   ]
  },
  {
   "cell_type": "code",
   "execution_count": null,
   "metadata": {},
   "outputs": [],
   "source": [
    "df = pd.read_csv(\"housepricedata.csv\")"
   ]
  },
  {
   "cell_type": "code",
   "execution_count": 3,
   "metadata": {
    "scrolled": true
   },
   "outputs": [
    {
     "data": {
      "text/html": [
       "<div>\n",
       "<style scoped>\n",
       "    .dataframe tbody tr th:only-of-type {\n",
       "        vertical-align: middle;\n",
       "    }\n",
       "\n",
       "    .dataframe tbody tr th {\n",
       "        vertical-align: top;\n",
       "    }\n",
       "\n",
       "    .dataframe thead th {\n",
       "        text-align: right;\n",
       "    }\n",
       "</style>\n",
       "<table border=\"1\" class=\"dataframe\">\n",
       "  <thead>\n",
       "    <tr style=\"text-align: right;\">\n",
       "      <th></th>\n",
       "      <th>LotArea</th>\n",
       "      <th>OverallQual</th>\n",
       "      <th>OverallCond</th>\n",
       "      <th>TotalBsmtSF</th>\n",
       "      <th>FullBath</th>\n",
       "      <th>HalfBath</th>\n",
       "      <th>BedroomAbvGr</th>\n",
       "      <th>TotRmsAbvGrd</th>\n",
       "      <th>Fireplaces</th>\n",
       "      <th>GarageArea</th>\n",
       "      <th>AboveMedianPrice</th>\n",
       "    </tr>\n",
       "  </thead>\n",
       "  <tbody>\n",
       "    <tr>\n",
       "      <th>0</th>\n",
       "      <td>8450</td>\n",
       "      <td>7</td>\n",
       "      <td>5</td>\n",
       "      <td>856</td>\n",
       "      <td>2</td>\n",
       "      <td>1</td>\n",
       "      <td>3</td>\n",
       "      <td>8</td>\n",
       "      <td>0</td>\n",
       "      <td>548</td>\n",
       "      <td>1</td>\n",
       "    </tr>\n",
       "    <tr>\n",
       "      <th>1</th>\n",
       "      <td>9600</td>\n",
       "      <td>6</td>\n",
       "      <td>8</td>\n",
       "      <td>1262</td>\n",
       "      <td>2</td>\n",
       "      <td>0</td>\n",
       "      <td>3</td>\n",
       "      <td>6</td>\n",
       "      <td>1</td>\n",
       "      <td>460</td>\n",
       "      <td>1</td>\n",
       "    </tr>\n",
       "    <tr>\n",
       "      <th>2</th>\n",
       "      <td>11250</td>\n",
       "      <td>7</td>\n",
       "      <td>5</td>\n",
       "      <td>920</td>\n",
       "      <td>2</td>\n",
       "      <td>1</td>\n",
       "      <td>3</td>\n",
       "      <td>6</td>\n",
       "      <td>1</td>\n",
       "      <td>608</td>\n",
       "      <td>1</td>\n",
       "    </tr>\n",
       "    <tr>\n",
       "      <th>3</th>\n",
       "      <td>9550</td>\n",
       "      <td>7</td>\n",
       "      <td>5</td>\n",
       "      <td>756</td>\n",
       "      <td>1</td>\n",
       "      <td>0</td>\n",
       "      <td>3</td>\n",
       "      <td>7</td>\n",
       "      <td>1</td>\n",
       "      <td>642</td>\n",
       "      <td>0</td>\n",
       "    </tr>\n",
       "    <tr>\n",
       "      <th>4</th>\n",
       "      <td>14260</td>\n",
       "      <td>8</td>\n",
       "      <td>5</td>\n",
       "      <td>1145</td>\n",
       "      <td>2</td>\n",
       "      <td>1</td>\n",
       "      <td>4</td>\n",
       "      <td>9</td>\n",
       "      <td>1</td>\n",
       "      <td>836</td>\n",
       "      <td>1</td>\n",
       "    </tr>\n",
       "    <tr>\n",
       "      <th>...</th>\n",
       "      <td>...</td>\n",
       "      <td>...</td>\n",
       "      <td>...</td>\n",
       "      <td>...</td>\n",
       "      <td>...</td>\n",
       "      <td>...</td>\n",
       "      <td>...</td>\n",
       "      <td>...</td>\n",
       "      <td>...</td>\n",
       "      <td>...</td>\n",
       "      <td>...</td>\n",
       "    </tr>\n",
       "    <tr>\n",
       "      <th>1455</th>\n",
       "      <td>7917</td>\n",
       "      <td>6</td>\n",
       "      <td>5</td>\n",
       "      <td>953</td>\n",
       "      <td>2</td>\n",
       "      <td>1</td>\n",
       "      <td>3</td>\n",
       "      <td>7</td>\n",
       "      <td>1</td>\n",
       "      <td>460</td>\n",
       "      <td>1</td>\n",
       "    </tr>\n",
       "    <tr>\n",
       "      <th>1456</th>\n",
       "      <td>13175</td>\n",
       "      <td>6</td>\n",
       "      <td>6</td>\n",
       "      <td>1542</td>\n",
       "      <td>2</td>\n",
       "      <td>0</td>\n",
       "      <td>3</td>\n",
       "      <td>7</td>\n",
       "      <td>2</td>\n",
       "      <td>500</td>\n",
       "      <td>1</td>\n",
       "    </tr>\n",
       "    <tr>\n",
       "      <th>1457</th>\n",
       "      <td>9042</td>\n",
       "      <td>7</td>\n",
       "      <td>9</td>\n",
       "      <td>1152</td>\n",
       "      <td>2</td>\n",
       "      <td>0</td>\n",
       "      <td>4</td>\n",
       "      <td>9</td>\n",
       "      <td>2</td>\n",
       "      <td>252</td>\n",
       "      <td>1</td>\n",
       "    </tr>\n",
       "    <tr>\n",
       "      <th>1458</th>\n",
       "      <td>9717</td>\n",
       "      <td>5</td>\n",
       "      <td>6</td>\n",
       "      <td>1078</td>\n",
       "      <td>1</td>\n",
       "      <td>0</td>\n",
       "      <td>2</td>\n",
       "      <td>5</td>\n",
       "      <td>0</td>\n",
       "      <td>240</td>\n",
       "      <td>0</td>\n",
       "    </tr>\n",
       "    <tr>\n",
       "      <th>1459</th>\n",
       "      <td>9937</td>\n",
       "      <td>5</td>\n",
       "      <td>6</td>\n",
       "      <td>1256</td>\n",
       "      <td>1</td>\n",
       "      <td>1</td>\n",
       "      <td>3</td>\n",
       "      <td>6</td>\n",
       "      <td>0</td>\n",
       "      <td>276</td>\n",
       "      <td>0</td>\n",
       "    </tr>\n",
       "  </tbody>\n",
       "</table>\n",
       "<p>1460 rows × 11 columns</p>\n",
       "</div>"
      ],
      "text/plain": [
       "      LotArea  OverallQual  OverallCond  TotalBsmtSF  FullBath  HalfBath  \\\n",
       "0        8450            7            5          856         2         1   \n",
       "1        9600            6            8         1262         2         0   \n",
       "2       11250            7            5          920         2         1   \n",
       "3        9550            7            5          756         1         0   \n",
       "4       14260            8            5         1145         2         1   \n",
       "...       ...          ...          ...          ...       ...       ...   \n",
       "1455     7917            6            5          953         2         1   \n",
       "1456    13175            6            6         1542         2         0   \n",
       "1457     9042            7            9         1152         2         0   \n",
       "1458     9717            5            6         1078         1         0   \n",
       "1459     9937            5            6         1256         1         1   \n",
       "\n",
       "      BedroomAbvGr  TotRmsAbvGrd  Fireplaces  GarageArea  AboveMedianPrice  \n",
       "0                3             8           0         548                 1  \n",
       "1                3             6           1         460                 1  \n",
       "2                3             6           1         608                 1  \n",
       "3                3             7           1         642                 0  \n",
       "4                4             9           1         836                 1  \n",
       "...            ...           ...         ...         ...               ...  \n",
       "1455             3             7           1         460                 1  \n",
       "1456             3             7           2         500                 1  \n",
       "1457             4             9           2         252                 1  \n",
       "1458             2             5           0         240                 0  \n",
       "1459             3             6           0         276                 0  \n",
       "\n",
       "[1460 rows x 11 columns]"
      ]
     },
     "execution_count": 3,
     "metadata": {},
     "output_type": "execute_result"
    }
   ],
   "source": [
    "df"
   ]
  },
  {
   "cell_type": "markdown",
   "metadata": {},
   "source": [
    "Converts the data frame into arrays. Now the machine can process the data in the arrays."
   ]
  },
  {
   "cell_type": "code",
   "execution_count": 4,
   "metadata": {},
   "outputs": [],
   "source": [
    "dataset = df.values"
   ]
  },
  {
   "cell_type": "code",
   "execution_count": 5,
   "metadata": {},
   "outputs": [
    {
     "data": {
      "text/plain": [
       "array([[ 8450,     7,     5, ...,     0,   548,     1],\n",
       "       [ 9600,     6,     8, ...,     1,   460,     1],\n",
       "       [11250,     7,     5, ...,     1,   608,     1],\n",
       "       ...,\n",
       "       [ 9042,     7,     9, ...,     2,   252,     1],\n",
       "       [ 9717,     5,     6, ...,     0,   240,     0],\n",
       "       [ 9937,     5,     6, ...,     0,   276,     0]], dtype=int64)"
      ]
     },
     "execution_count": 5,
     "metadata": {},
     "output_type": "execute_result"
    }
   ],
   "source": [
    "dataset"
   ]
  },
  {
   "cell_type": "code",
   "execution_count": 6,
   "metadata": {},
   "outputs": [],
   "source": [
    "X = dataset[:,0:10]"
   ]
  },
  {
   "cell_type": "code",
   "execution_count": 8,
   "metadata": {},
   "outputs": [],
   "source": [
    "Y = dataset[:,10]"
   ]
  },
  {
   "cell_type": "code",
   "execution_count": 11,
   "metadata": {},
   "outputs": [],
   "source": [
    "from sklearn import preprocessing as prp"
   ]
  },
  {
   "cell_type": "code",
   "execution_count": 14,
   "metadata": {},
   "outputs": [],
   "source": [
    "min_max_scaler = prp.MinMaxScaler()\n",
    "X_scale = min_max_scaler.fit_transform(X)"
   ]
  },
  {
   "cell_type": "code",
   "execution_count": 15,
   "metadata": {},
   "outputs": [
    {
     "data": {
      "text/plain": [
       "array([[0.0334198 , 0.66666667, 0.5       , ..., 0.5       , 0.        ,\n",
       "        0.3864598 ],\n",
       "       [0.03879502, 0.55555556, 0.875     , ..., 0.33333333, 0.33333333,\n",
       "        0.32440056],\n",
       "       [0.04650728, 0.66666667, 0.5       , ..., 0.33333333, 0.33333333,\n",
       "        0.42877292],\n",
       "       ...,\n",
       "       [0.03618687, 0.66666667, 1.        , ..., 0.58333333, 0.66666667,\n",
       "        0.17771509],\n",
       "       [0.03934189, 0.44444444, 0.625     , ..., 0.25      , 0.        ,\n",
       "        0.16925247],\n",
       "       [0.04037019, 0.44444444, 0.625     , ..., 0.33333333, 0.        ,\n",
       "        0.19464034]])"
      ]
     },
     "execution_count": 15,
     "metadata": {},
     "output_type": "execute_result"
    }
   ],
   "source": [
    "X_scale"
   ]
  },
  {
   "cell_type": "markdown",
   "metadata": {},
   "source": [
    "Split the data sets into training set, validation set and test set. "
   ]
  },
  {
   "cell_type": "code",
   "execution_count": 18,
   "metadata": {},
   "outputs": [],
   "source": [
    "from sklearn.model_selection import train_test_split as tts"
   ]
  },
  {
   "cell_type": "code",
   "execution_count": 20,
   "metadata": {},
   "outputs": [],
   "source": [
    "X_train, X_val_and_test, Y_train, Y_val_and_test = tts(X_scale, Y, test_size=0.3)"
   ]
  },
  {
   "cell_type": "code",
   "execution_count": 21,
   "metadata": {},
   "outputs": [],
   "source": [
    "X_val, X_test, Y_val, Y_test = tts(X_val_and_test,  Y_val_and_test, test_size=0.5)"
   ]
  },
  {
   "cell_type": "code",
   "execution_count": 22,
   "metadata": {},
   "outputs": [
    {
     "name": "stdout",
     "output_type": "stream",
     "text": [
      "(1022, 10) (219, 10) (219, 10) (1022,) (219,) (219,)\n"
     ]
    }
   ],
   "source": [
    "print(X_train.shape, X_val.shape, X_test.shape, Y_train.shape, Y_val.shape, Y_test.shape)"
   ]
  },
  {
   "cell_type": "markdown",
   "metadata": {},
   "source": [
    "Setting up the model architecture.\n",
    "Combining different hyper parameters.\n",
    "Keras used to build the model."
   ]
  },
  {
   "cell_type": "code",
   "execution_count": 24,
   "metadata": {},
   "outputs": [
    {
     "name": "stderr",
     "output_type": "stream",
     "text": [
      "Using TensorFlow backend.\n"
     ]
    }
   ],
   "source": [
    "from keras.models import Sequential\n",
    "from keras.layers import Dense"
   ]
  },
  {
   "cell_type": "markdown",
   "metadata": {},
   "source": [
    "We will be using the Sequential model, which means that we merely need to describe the layers above in sequence. Our neural network has three layers:\n",
    "\n",
    "Hidden layer 1: 32 neurons, ReLU activation\n",
    "Hidden layer 2: 32 neurons, ReLU activation\n",
    "Output Layer: 1 neuron, Sigmoid activation"
   ]
  },
  {
   "cell_type": "code",
   "execution_count": 27,
   "metadata": {},
   "outputs": [],
   "source": [
    "model = Sequential([Dense(32, activation = 'relu', input_shape = (10,)),\n",
    "                   Dense(32, activation = 'relu'),\n",
    "                   Dense(1, activation = 'sigmoid')])"
   ]
  },
  {
   "cell_type": "markdown",
   "metadata": {},
   "source": [
    "Compile the model by defining the parameters required for the optimizing, loss function model, and accuracy tracking on top of loss function"
   ]
  },
  {
   "cell_type": "code",
   "execution_count": 28,
   "metadata": {},
   "outputs": [],
   "source": [
    "model.compile(optimizer = 'sgd', loss = 'binary_crossentropy', metrics = ['accuracy'])"
   ]
  },
  {
   "cell_type": "markdown",
   "metadata": {},
   "source": [
    "Training on the data is pretty straightforward and requires us to write one line of code. The function is called 'fit' as we are fitting the parameters to the data. We specify:\n",
    "\n",
    "what data we are training on, which is X_train and Y_train\n",
    "the size of our mini-batch\n",
    "how long we want to train it for (epochs)\n",
    "what our validation data is so that the model will tell us how we are doing on the validation data at each point.\n",
    "This function will output a history, which we save under the variable hist. We'll use this variable a little later.\n",
    "\n",
    "The batch size is the size of the minibatch"
   ]
  },
  {
   "cell_type": "code",
   "execution_count": 29,
   "metadata": {},
   "outputs": [
    {
     "name": "stdout",
     "output_type": "stream",
     "text": [
      "Train on 1022 samples, validate on 219 samples\n",
      "Epoch 1/100\n",
      "1022/1022 [==============================] - 0s 228us/step - loss: 0.6747 - accuracy: 0.4990 - val_loss: 0.6800 - val_accuracy: 0.4840\n",
      "Epoch 2/100\n",
      "1022/1022 [==============================] - 0s 42us/step - loss: 0.6696 - accuracy: 0.4990 - val_loss: 0.6749 - val_accuracy: 0.4840\n",
      "Epoch 3/100\n",
      "1022/1022 [==============================] - 0s 38us/step - loss: 0.6649 - accuracy: 0.5010 - val_loss: 0.6705 - val_accuracy: 0.4840\n",
      "Epoch 4/100\n",
      "1022/1022 [==============================] - 0s 38us/step - loss: 0.6604 - accuracy: 0.5137 - val_loss: 0.6663 - val_accuracy: 0.5068\n",
      "Epoch 5/100\n",
      "1022/1022 [==============================] - 0s 38us/step - loss: 0.6561 - accuracy: 0.5558 - val_loss: 0.6622 - val_accuracy: 0.5434\n",
      "Epoch 6/100\n",
      "1022/1022 [==============================] - 0s 37us/step - loss: 0.6516 - accuracy: 0.5881 - val_loss: 0.6581 - val_accuracy: 0.6484\n",
      "Epoch 7/100\n",
      "1022/1022 [==============================] - 0s 38us/step - loss: 0.6471 - accuracy: 0.6566 - val_loss: 0.6541 - val_accuracy: 0.6758\n",
      "Epoch 8/100\n",
      "1022/1022 [==============================] - 0s 38us/step - loss: 0.6426 - accuracy: 0.7006 - val_loss: 0.6499 - val_accuracy: 0.6986\n",
      "Epoch 9/100\n",
      "1022/1022 [==============================] - 0s 50us/step - loss: 0.6378 - accuracy: 0.7456 - val_loss: 0.6459 - val_accuracy: 0.7032\n",
      "Epoch 10/100\n",
      "1022/1022 [==============================] - 0s 40us/step - loss: 0.6330 - accuracy: 0.7466 - val_loss: 0.6415 - val_accuracy: 0.7078\n",
      "Epoch 11/100\n",
      "1022/1022 [==============================] - 0s 30us/step - loss: 0.6280 - accuracy: 0.7583 - val_loss: 0.6370 - val_accuracy: 0.7260\n",
      "Epoch 12/100\n",
      "1022/1022 [==============================] - 0s 31us/step - loss: 0.6228 - accuracy: 0.7622 - val_loss: 0.6322 - val_accuracy: 0.7306\n",
      "Epoch 13/100\n",
      "1022/1022 [==============================] - 0s 33us/step - loss: 0.6174 - accuracy: 0.7691 - val_loss: 0.6272 - val_accuracy: 0.7352\n",
      "Epoch 14/100\n",
      "1022/1022 [==============================] - 0s 33us/step - loss: 0.6119 - accuracy: 0.7838 - val_loss: 0.6223 - val_accuracy: 0.7489\n",
      "Epoch 15/100\n",
      "1022/1022 [==============================] - 0s 33us/step - loss: 0.6060 - accuracy: 0.7926 - val_loss: 0.6173 - val_accuracy: 0.7489\n",
      "Epoch 16/100\n",
      "1022/1022 [==============================] - 0s 33us/step - loss: 0.6001 - accuracy: 0.7886 - val_loss: 0.6117 - val_accuracy: 0.7671\n",
      "Epoch 17/100\n",
      "1022/1022 [==============================] - 0s 34us/step - loss: 0.5939 - accuracy: 0.7945 - val_loss: 0.6061 - val_accuracy: 0.7717\n",
      "Epoch 18/100\n",
      "1022/1022 [==============================] - 0s 34us/step - loss: 0.5874 - accuracy: 0.7984 - val_loss: 0.6004 - val_accuracy: 0.7717\n",
      "Epoch 19/100\n",
      "1022/1022 [==============================] - 0s 39us/step - loss: 0.5808 - accuracy: 0.8043 - val_loss: 0.5945 - val_accuracy: 0.7717\n",
      "Epoch 20/100\n",
      "1022/1022 [==============================] - 0s 35us/step - loss: 0.5740 - accuracy: 0.8033 - val_loss: 0.5887 - val_accuracy: 0.7763\n",
      "Epoch 21/100\n",
      "1022/1022 [==============================] - 0s 36us/step - loss: 0.5671 - accuracy: 0.8082 - val_loss: 0.5824 - val_accuracy: 0.7900\n",
      "Epoch 22/100\n",
      "1022/1022 [==============================] - 0s 40us/step - loss: 0.5601 - accuracy: 0.8141 - val_loss: 0.5763 - val_accuracy: 0.7900\n",
      "Epoch 23/100\n",
      "1022/1022 [==============================] - 0s 33us/step - loss: 0.5528 - accuracy: 0.8160 - val_loss: 0.5702 - val_accuracy: 0.7945\n",
      "Epoch 24/100\n",
      "1022/1022 [==============================] - 0s 36us/step - loss: 0.5456 - accuracy: 0.8151 - val_loss: 0.5637 - val_accuracy: 0.7945\n",
      "Epoch 25/100\n",
      "1022/1022 [==============================] - 0s 34us/step - loss: 0.5382 - accuracy: 0.8200 - val_loss: 0.5571 - val_accuracy: 0.7945\n",
      "Epoch 26/100\n",
      "1022/1022 [==============================] - 0s 36us/step - loss: 0.5308 - accuracy: 0.8317 - val_loss: 0.5508 - val_accuracy: 0.7991\n",
      "Epoch 27/100\n",
      "1022/1022 [==============================] - ETA: 0s - loss: 0.5327 - accuracy: 0.81 - 0s 34us/step - loss: 0.5234 - accuracy: 0.8307 - val_loss: 0.5445 - val_accuracy: 0.8082\n",
      "Epoch 28/100\n",
      "1022/1022 [==============================] - 0s 34us/step - loss: 0.5159 - accuracy: 0.8366 - val_loss: 0.5379 - val_accuracy: 0.8037\n",
      "Epoch 29/100\n",
      "1022/1022 [==============================] - 0s 35us/step - loss: 0.5086 - accuracy: 0.8366 - val_loss: 0.5313 - val_accuracy: 0.8128\n",
      "Epoch 30/100\n",
      "1022/1022 [==============================] - 0s 33us/step - loss: 0.5013 - accuracy: 0.8454 - val_loss: 0.5258 - val_accuracy: 0.8174\n",
      "Epoch 31/100\n",
      "1022/1022 [==============================] - 0s 37us/step - loss: 0.4939 - accuracy: 0.8523 - val_loss: 0.5205 - val_accuracy: 0.8128\n",
      "Epoch 32/100\n",
      "1022/1022 [==============================] - 0s 34us/step - loss: 0.4870 - accuracy: 0.8503 - val_loss: 0.5139 - val_accuracy: 0.8219\n",
      "Epoch 33/100\n",
      "1022/1022 [==============================] - 0s 34us/step - loss: 0.4799 - accuracy: 0.8542 - val_loss: 0.5084 - val_accuracy: 0.8219\n",
      "Epoch 34/100\n",
      "1022/1022 [==============================] - 0s 33us/step - loss: 0.4732 - accuracy: 0.8542 - val_loss: 0.5024 - val_accuracy: 0.8219\n",
      "Epoch 35/100\n",
      "1022/1022 [==============================] - 0s 34us/step - loss: 0.4663 - accuracy: 0.8552 - val_loss: 0.4978 - val_accuracy: 0.8219\n",
      "Epoch 36/100\n",
      "1022/1022 [==============================] - 0s 34us/step - loss: 0.4596 - accuracy: 0.8523 - val_loss: 0.4912 - val_accuracy: 0.8219\n",
      "Epoch 37/100\n",
      "1022/1022 [==============================] - 0s 42us/step - loss: 0.4530 - accuracy: 0.8581 - val_loss: 0.4857 - val_accuracy: 0.8219\n",
      "Epoch 38/100\n",
      "1022/1022 [==============================] - 0s 48us/step - loss: 0.4467 - accuracy: 0.8571 - val_loss: 0.4804 - val_accuracy: 0.8219\n",
      "Epoch 39/100\n",
      "1022/1022 [==============================] - 0s 37us/step - loss: 0.4403 - accuracy: 0.8552 - val_loss: 0.4754 - val_accuracy: 0.8219\n",
      "Epoch 40/100\n",
      "1022/1022 [==============================] - 0s 30us/step - loss: 0.4342 - accuracy: 0.8571 - val_loss: 0.4709 - val_accuracy: 0.8265\n",
      "Epoch 41/100\n",
      "1022/1022 [==============================] - 0s 34us/step - loss: 0.4282 - accuracy: 0.8620 - val_loss: 0.4649 - val_accuracy: 0.8219\n",
      "Epoch 42/100\n",
      "1022/1022 [==============================] - 0s 35us/step - loss: 0.4226 - accuracy: 0.8611 - val_loss: 0.4609 - val_accuracy: 0.8219\n",
      "Epoch 43/100\n",
      "1022/1022 [==============================] - 0s 35us/step - loss: 0.4168 - accuracy: 0.8581 - val_loss: 0.4561 - val_accuracy: 0.8219\n",
      "Epoch 44/100\n",
      "1022/1022 [==============================] - 0s 35us/step - loss: 0.4108 - accuracy: 0.8601 - val_loss: 0.4527 - val_accuracy: 0.8265\n",
      "Epoch 45/100\n",
      "1022/1022 [==============================] - 0s 34us/step - loss: 0.4060 - accuracy: 0.8620 - val_loss: 0.4474 - val_accuracy: 0.8356\n",
      "Epoch 46/100\n",
      "1022/1022 [==============================] - 0s 36us/step - loss: 0.4006 - accuracy: 0.8620 - val_loss: 0.4428 - val_accuracy: 0.8311\n",
      "Epoch 47/100\n",
      "1022/1022 [==============================] - 0s 39us/step - loss: 0.3955 - accuracy: 0.8659 - val_loss: 0.4381 - val_accuracy: 0.8311\n",
      "Epoch 48/100\n",
      "1022/1022 [==============================] - 0s 37us/step - loss: 0.3906 - accuracy: 0.8620 - val_loss: 0.4356 - val_accuracy: 0.8356\n",
      "Epoch 49/100\n",
      "1022/1022 [==============================] - 0s 38us/step - loss: 0.3858 - accuracy: 0.8640 - val_loss: 0.4319 - val_accuracy: 0.8356\n",
      "Epoch 50/100\n",
      "1022/1022 [==============================] - 0s 35us/step - loss: 0.3814 - accuracy: 0.8650 - val_loss: 0.4277 - val_accuracy: 0.8356\n",
      "Epoch 51/100\n",
      "1022/1022 [==============================] - 0s 38us/step - loss: 0.3769 - accuracy: 0.8679 - val_loss: 0.4232 - val_accuracy: 0.8356\n",
      "Epoch 52/100\n",
      "1022/1022 [==============================] - 0s 36us/step - loss: 0.3726 - accuracy: 0.8630 - val_loss: 0.4207 - val_accuracy: 0.8356\n",
      "Epoch 53/100\n",
      "1022/1022 [==============================] - 0s 29us/step - loss: 0.3684 - accuracy: 0.8581 - val_loss: 0.4185 - val_accuracy: 0.8356\n",
      "Epoch 54/100\n",
      "1022/1022 [==============================] - 0s 30us/step - loss: 0.3646 - accuracy: 0.8630 - val_loss: 0.4155 - val_accuracy: 0.8356\n",
      "Epoch 55/100\n",
      "1022/1022 [==============================] - 0s 32us/step - loss: 0.3604 - accuracy: 0.8659 - val_loss: 0.4107 - val_accuracy: 0.8311\n",
      "Epoch 56/100\n"
     ]
    },
    {
     "name": "stdout",
     "output_type": "stream",
     "text": [
      "1022/1022 [==============================] - 0s 32us/step - loss: 0.3571 - accuracy: 0.8708 - val_loss: 0.4071 - val_accuracy: 0.8447\n",
      "Epoch 57/100\n",
      "1022/1022 [==============================] - 0s 29us/step - loss: 0.3536 - accuracy: 0.8659 - val_loss: 0.4043 - val_accuracy: 0.8447\n",
      "Epoch 58/100\n",
      "1022/1022 [==============================] - 0s 31us/step - loss: 0.3500 - accuracy: 0.8630 - val_loss: 0.4031 - val_accuracy: 0.8402\n",
      "Epoch 59/100\n",
      "1022/1022 [==============================] - 0s 32us/step - loss: 0.3467 - accuracy: 0.8689 - val_loss: 0.3999 - val_accuracy: 0.8447\n",
      "Epoch 60/100\n",
      "1022/1022 [==============================] - 0s 29us/step - loss: 0.3435 - accuracy: 0.8679 - val_loss: 0.3974 - val_accuracy: 0.8493\n",
      "Epoch 61/100\n",
      "1022/1022 [==============================] - 0s 32us/step - loss: 0.3409 - accuracy: 0.8659 - val_loss: 0.3957 - val_accuracy: 0.8447\n",
      "Epoch 62/100\n",
      "1022/1022 [==============================] - 0s 32us/step - loss: 0.3378 - accuracy: 0.8669 - val_loss: 0.3933 - val_accuracy: 0.8493\n",
      "Epoch 63/100\n",
      "1022/1022 [==============================] - 0s 31us/step - loss: 0.3351 - accuracy: 0.8689 - val_loss: 0.3906 - val_accuracy: 0.8493\n",
      "Epoch 64/100\n",
      "1022/1022 [==============================] - 0s 29us/step - loss: 0.3322 - accuracy: 0.8708 - val_loss: 0.3884 - val_accuracy: 0.8493\n",
      "Epoch 65/100\n",
      "1022/1022 [==============================] - 0s 29us/step - loss: 0.3299 - accuracy: 0.8679 - val_loss: 0.3871 - val_accuracy: 0.8493\n",
      "Epoch 66/100\n",
      "1022/1022 [==============================] - 0s 29us/step - loss: 0.3273 - accuracy: 0.8689 - val_loss: 0.3845 - val_accuracy: 0.8493\n",
      "Epoch 67/100\n",
      "1022/1022 [==============================] - 0s 30us/step - loss: 0.3248 - accuracy: 0.8689 - val_loss: 0.3856 - val_accuracy: 0.8402\n",
      "Epoch 68/100\n",
      "1022/1022 [==============================] - 0s 44us/step - loss: 0.3232 - accuracy: 0.8699 - val_loss: 0.3821 - val_accuracy: 0.8493\n",
      "Epoch 69/100\n",
      "1022/1022 [==============================] - 0s 41us/step - loss: 0.3208 - accuracy: 0.8708 - val_loss: 0.3811 - val_accuracy: 0.8493\n",
      "Epoch 70/100\n",
      "1022/1022 [==============================] - 0s 32us/step - loss: 0.3182 - accuracy: 0.8767 - val_loss: 0.3787 - val_accuracy: 0.8493\n",
      "Epoch 71/100\n",
      "1022/1022 [==============================] - 0s 29us/step - loss: 0.3165 - accuracy: 0.8757 - val_loss: 0.3773 - val_accuracy: 0.8493\n",
      "Epoch 72/100\n",
      "1022/1022 [==============================] - 0s 32us/step - loss: 0.3142 - accuracy: 0.8738 - val_loss: 0.3756 - val_accuracy: 0.8493\n",
      "Epoch 73/100\n",
      "1022/1022 [==============================] - 0s 30us/step - loss: 0.3129 - accuracy: 0.8796 - val_loss: 0.3743 - val_accuracy: 0.8493\n",
      "Epoch 74/100\n",
      "1022/1022 [==============================] - 0s 30us/step - loss: 0.3106 - accuracy: 0.8748 - val_loss: 0.3748 - val_accuracy: 0.8493\n",
      "Epoch 75/100\n",
      "1022/1022 [==============================] - 0s 30us/step - loss: 0.3094 - accuracy: 0.8757 - val_loss: 0.3724 - val_accuracy: 0.8493\n",
      "Epoch 76/100\n",
      "1022/1022 [==============================] - 0s 29us/step - loss: 0.3071 - accuracy: 0.8796 - val_loss: 0.3700 - val_accuracy: 0.8447\n",
      "Epoch 77/100\n",
      "1022/1022 [==============================] - 0s 32us/step - loss: 0.3060 - accuracy: 0.8777 - val_loss: 0.3698 - val_accuracy: 0.8493\n",
      "Epoch 78/100\n",
      "1022/1022 [==============================] - 0s 30us/step - loss: 0.3040 - accuracy: 0.8767 - val_loss: 0.3678 - val_accuracy: 0.8447\n",
      "Epoch 79/100\n",
      "1022/1022 [==============================] - 0s 29us/step - loss: 0.3025 - accuracy: 0.8826 - val_loss: 0.3684 - val_accuracy: 0.8493\n",
      "Epoch 80/100\n",
      "1022/1022 [==============================] - 0s 31us/step - loss: 0.3010 - accuracy: 0.8845 - val_loss: 0.3657 - val_accuracy: 0.8493\n",
      "Epoch 81/100\n",
      "1022/1022 [==============================] - 0s 31us/step - loss: 0.3000 - accuracy: 0.8796 - val_loss: 0.3652 - val_accuracy: 0.8447\n",
      "Epoch 82/100\n",
      "1022/1022 [==============================] - 0s 29us/step - loss: 0.2978 - accuracy: 0.8816 - val_loss: 0.3655 - val_accuracy: 0.8493\n",
      "Epoch 83/100\n",
      "1022/1022 [==============================] - 0s 29us/step - loss: 0.2964 - accuracy: 0.8875 - val_loss: 0.3669 - val_accuracy: 0.8493\n",
      "Epoch 84/100\n",
      "1022/1022 [==============================] - ETA: 0s - loss: 0.2778 - accuracy: 0.87 - 0s 30us/step - loss: 0.2958 - accuracy: 0.8806 - val_loss: 0.3638 - val_accuracy: 0.8447\n",
      "Epoch 85/100\n",
      "1022/1022 [==============================] - 0s 30us/step - loss: 0.2946 - accuracy: 0.8855 - val_loss: 0.3612 - val_accuracy: 0.8539\n",
      "Epoch 86/100\n",
      "1022/1022 [==============================] - 0s 30us/step - loss: 0.2928 - accuracy: 0.8885 - val_loss: 0.3633 - val_accuracy: 0.8539\n",
      "Epoch 87/100\n",
      "1022/1022 [==============================] - 0s 30us/step - loss: 0.2927 - accuracy: 0.8885 - val_loss: 0.3599 - val_accuracy: 0.8493\n",
      "Epoch 88/100\n",
      "1022/1022 [==============================] - 0s 29us/step - loss: 0.2902 - accuracy: 0.8855 - val_loss: 0.3616 - val_accuracy: 0.8539\n",
      "Epoch 89/100\n",
      "1022/1022 [==============================] - 0s 33us/step - loss: 0.2898 - accuracy: 0.8855 - val_loss: 0.3583 - val_accuracy: 0.8539\n",
      "Epoch 90/100\n",
      "1022/1022 [==============================] - 0s 40us/step - loss: 0.2890 - accuracy: 0.8885 - val_loss: 0.3581 - val_accuracy: 0.8493\n",
      "Epoch 91/100\n",
      "1022/1022 [==============================] - 0s 38us/step - loss: 0.2878 - accuracy: 0.8894 - val_loss: 0.3567 - val_accuracy: 0.8539\n",
      "Epoch 92/100\n",
      "1022/1022 [==============================] - 0s 32us/step - loss: 0.2861 - accuracy: 0.8894 - val_loss: 0.3557 - val_accuracy: 0.8721\n",
      "Epoch 93/100\n",
      "1022/1022 [==============================] - 0s 30us/step - loss: 0.2860 - accuracy: 0.8885 - val_loss: 0.3554 - val_accuracy: 0.8539\n",
      "Epoch 94/100\n",
      "1022/1022 [==============================] - 0s 31us/step - loss: 0.2848 - accuracy: 0.8904 - val_loss: 0.3548 - val_accuracy: 0.8539\n",
      "Epoch 95/100\n",
      "1022/1022 [==============================] - 0s 31us/step - loss: 0.2840 - accuracy: 0.8904 - val_loss: 0.3538 - val_accuracy: 0.8767\n",
      "Epoch 96/100\n",
      "1022/1022 [==============================] - 0s 31us/step - loss: 0.2806 - accuracy: 0.8865 - val_loss: 0.3594 - val_accuracy: 0.8584\n",
      "Epoch 97/100\n",
      "1022/1022 [==============================] - 0s 30us/step - loss: 0.2818 - accuracy: 0.8904 - val_loss: 0.3534 - val_accuracy: 0.8539\n",
      "Epoch 98/100\n",
      "1022/1022 [==============================] - 0s 30us/step - loss: 0.2806 - accuracy: 0.8904 - val_loss: 0.3540 - val_accuracy: 0.8539\n",
      "Epoch 99/100\n",
      "1022/1022 [==============================] - 0s 33us/step - loss: 0.2800 - accuracy: 0.8924 - val_loss: 0.3542 - val_accuracy: 0.8539\n",
      "Epoch 100/100\n",
      "1022/1022 [==============================] - 0s 47us/step - loss: 0.2798 - accuracy: 0.8924 - val_loss: 0.3516 - val_accuracy: 0.8493\n"
     ]
    }
   ],
   "source": [
    "hist = model.fit(X_train,Y_train, batch_size=32, epochs=100, validation_data = (X_val,Y_val))"
   ]
  },
  {
   "cell_type": "markdown",
   "metadata": {},
   "source": [
    "The reason why we have the index 1 after the model.evaluate function is because the function returns the loss as the first element and the accuracy as the second element. To only output the accuracy, simply access the second element (which is indexed by 1, since the first element starts its indexing from 0)."
   ]
  },
  {
   "cell_type": "code",
   "execution_count": 33,
   "metadata": {},
   "outputs": [
    {
     "name": "stdout",
     "output_type": "stream",
     "text": [
      "219/219 [==============================] - 0s 23us/step\n"
     ]
    },
    {
     "data": {
      "text/plain": [
       "0.8630136847496033"
      ]
     },
     "execution_count": 33,
     "metadata": {},
     "output_type": "execute_result"
    }
   ],
   "source": [
    "model.evaluate(X_test, Y_test)[1]"
   ]
  },
  {
   "cell_type": "code",
   "execution_count": null,
   "metadata": {},
   "outputs": [],
   "source": []
  }
 ],
 "metadata": {
  "kernelspec": {
   "display_name": "Python 3",
   "language": "python",
   "name": "python3"
  },
  "language_info": {
   "codemirror_mode": {
    "name": "ipython",
    "version": 3
   },
   "file_extension": ".py",
   "mimetype": "text/x-python",
   "name": "python",
   "nbconvert_exporter": "python",
   "pygments_lexer": "ipython3",
   "version": "3.7.7"
  }
 },
 "nbformat": 4,
 "nbformat_minor": 4
}
